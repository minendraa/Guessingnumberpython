{
 "cells": [
  {
   "cell_type": "markdown",
   "id": "f1e13643-5173-4cd4-bf37-dac77e76862c",
   "metadata": {},
   "source": [
    "#### Session Objectives:\n",
    "*   Understand the motivation behind Object-Oriented Programming.\n",
    "*   Learn the core concepts: Classes, Objects, Attributes, and Methods.\n",
    "*   Learn how to define a simple class in Python.\n",
    "*   Understand the purpose and usage of the `__init__` constructor method.\n",
    "*   Learn how to create instances (objects) of a class.\n",
    "*   Learn how to access object attributes and call object methods.\n"
   ]
  },
  {
   "cell_type": "markdown",
   "id": "4637d46a-9940-462d-bf5f-4e50345f850f",
   "metadata": {},
   "source": [
    "# Why OOP?\n",
    "\n",
    "  **Analogy:** Think about building a house.\n",
    "  *   You start with a **blueprint** (the plan). This blueprint defines what a house *is* – it has walls, rooms, doors, windows, etc., and it specifies how these parts are related.\n",
    "  *   Using the blueprint, you can build multiple **actual houses**. Each house is a specific instance built *from* the blueprint. Each house has its own specific characteristics (e.g., one house might be painted blue, another red; one might have 3 bedrooms, another 4)."
   ]
  },
  {
   "cell_type": "markdown",
   "id": "06aef7c0-2354-4c4d-b506-09ead502d618",
   "metadata": {},
   "source": [
    "## 1.  **Class:**\n",
    "     *   **Concept:** A blueprint or template for creating objects. It defines the properties and behaviors that all objects of that type will share.\n",
    "     *   **Analogy:** The house blueprint. It defines that a house *will have* walls, doors, rooms, etc.\n",
    "     *   **Python:** Defined using the 'class' keyword."
   ]
  },
  {
   "cell_type": "markdown",
   "id": "4c2d0990-2ab6-40aa-b135-a0ffdf5bc7c9",
   "metadata": {},
   "source": [
    "## 2.  **Object (Instance):**\n",
    "    *   **Concept:** A specific instance created from a class. It has its own unique state (values for its properties).\n",
    "    *   **Analogy:** An actual house built from the blueprint. It has a specific color, address, number of rooms.\n",
    "    *   **Python:** Created by \"calling\" the class name like a function (e.g., `my_house = House()`)."
   ]
  },
  {
   "cell_type": "markdown",
   "id": "48d146d8-6689-42cd-8383-1f34568b97d6",
   "metadata": {},
   "source": [
    "## 3.  **Attribute:**\n",
    "     *   **Concept:** Data associated with an object. Represents the state or characteristics of an object.\n",
    "     *   **Analogy:** Properties of a specific house, like its color (`\"blue\"`), number of stories (`2`), address (`\"123 Main St\"`).\n",
    "     *   **Python:** Variables that belong to an object (e.g., `my_house.color`). Often initialized in the `__init__` method."
   ]
  },
  {
   "cell_type": "markdown",
   "id": "d77561c8-fa16-48a1-9837-acea5fc14caa",
   "metadata": {},
   "source": [
    "## 4.  **Method:**\n",
    "     *   **Concept:** Functions associated with an object. Represents the behaviors or actions an object can perform. Methods often operate on the object's attributes.\n",
    "     *   **Analogy:** Actions a house (or things in it) can do, like `open_door()`, `turn_on_lights()`, `calculate_area()`.\n",
    "     *   **Python:** Functions defined inside a class. They always take `self` as their first parameter. (e.g., `my_house.open_door()`)."
   ]
  },
  {
   "cell_type": "code",
   "execution_count": 8,
   "id": "0aa6b729-36a9-4618-8ca4-055c3cc59611",
   "metadata": {},
   "outputs": [],
   "source": [
    "class Dog:\n",
    "    pass"
   ]
  },
  {
   "cell_type": "code",
   "execution_count": 9,
   "id": "65dbaf75-5292-48d9-ba27-ac9e0a0f9e66",
   "metadata": {},
   "outputs": [
    {
     "name": "stdout",
     "output_type": "stream",
     "text": [
      "<class 'type'>\n"
     ]
    }
   ],
   "source": [
    "print(type(Dog))"
   ]
  },
  {
   "cell_type": "code",
   "execution_count": 10,
   "id": "a18758b0-bc9a-4af9-b196-2336f38b801e",
   "metadata": {},
   "outputs": [],
   "source": [
    "dog1=Dog()\n",
    "dog2=Dog()"
   ]
  },
  {
   "cell_type": "code",
   "execution_count": 11,
   "id": "535bd124-06e2-4df9-82e0-dfabe6d26a97",
   "metadata": {},
   "outputs": [
    {
     "name": "stdout",
     "output_type": "stream",
     "text": [
      "<class '__main__.Dog'>\n",
      "<class '__main__.Dog'>\n",
      "<__main__.Dog object at 0x000002040BA773E0>\n",
      "<__main__.Dog object at 0x000002040CFEAF00>\n",
      "False\n"
     ]
    }
   ],
   "source": [
    "print(type(dog1))\n",
    "print(type(dog2))\n",
    "\n",
    "print(dog1)\n",
    "print(dog2)\n",
    "print(dog1==dog2)"
   ]
  },
  {
   "cell_type": "markdown",
   "id": "cabc693c-6ac8-4b6f-815f-5235f7e7ea6c",
   "metadata": {},
   "source": [
    "### The `__init__` Constructor\n",
    "        # 'self' refers to the specific Dog object being created (e.g., dog1, dog2)\n",
    "        # We are taking the values passed in (name, breed, age)\n",
    "        # and assigning them to attributes of this specific object (self)"
   ]
  },
  {
   "cell_type": "code",
   "execution_count": 12,
   "id": "59889696-5f44-4b98-a1c6-d9b96ecfc4df",
   "metadata": {},
   "outputs": [],
   "source": [
    "class Dog:\n",
    "    def __init__(self, name, breed, age):\n",
    "        self.name=name\n",
    "        self.breed=breed\n",
    "        self.age=age\n",
    "        print(f\"A new dog object named {self.name} was created!\")"
   ]
  },
  {
   "cell_type": "code",
   "execution_count": 13,
   "id": "290cecb9-9f6e-4756-bb09-6aa5f885563a",
   "metadata": {},
   "outputs": [
    {
     "name": "stdout",
     "output_type": "stream",
     "text": [
      "A new dog object named Jimmy was created!\n",
      "A new dog object named Lucy was created!\n"
     ]
    }
   ],
   "source": [
    "dog1=Dog(\"Jimmy\",\"Golden Retriever\",3)\n",
    "dog2=Dog(\"Lucy\",\"German Shepherd\",5)"
   ]
  },
  {
   "cell_type": "code",
   "execution_count": 14,
   "id": "9bb4df3c-e0e7-45e7-aaf2-a58a8ad2fa14",
   "metadata": {},
   "outputs": [
    {
     "data": {
      "text/plain": [
       "'Jimmy'"
      ]
     },
     "execution_count": 14,
     "metadata": {},
     "output_type": "execute_result"
    }
   ],
   "source": [
    "dog1.name"
   ]
  },
  {
   "cell_type": "code",
   "execution_count": 16,
   "id": "8cf72665-b000-4403-aaa8-bff2238e48e3",
   "metadata": {},
   "outputs": [
    {
     "data": {
      "text/plain": [
       "3"
      ]
     },
     "execution_count": 16,
     "metadata": {},
     "output_type": "execute_result"
    }
   ],
   "source": [
    "dog1.age"
   ]
  },
  {
   "cell_type": "code",
   "execution_count": 17,
   "id": "f957e288-31ad-4bbf-a954-83fb1f260ab7",
   "metadata": {},
   "outputs": [
    {
     "data": {
      "text/plain": [
       "'Golden Retriever'"
      ]
     },
     "execution_count": 17,
     "metadata": {},
     "output_type": "execute_result"
    }
   ],
   "source": [
    "dog1.breed"
   ]
  },
  {
   "cell_type": "code",
   "execution_count": 18,
   "id": "8e5a46a6-1a46-4c2b-8c19-84386ebf49ec",
   "metadata": {},
   "outputs": [
    {
     "name": "stdout",
     "output_type": "stream",
     "text": [
      "Dog 1's Name: Jimmy\n",
      "Dog 1's Breed: Golden Retriever\n",
      "Dog 1's Age: 3\n",
      "\n",
      "Dog 2's Name: Lucy\n",
      "Dog 2's Breed: German Shepherd\n",
      "Dog 2's Age: 5\n",
      "\n",
      "Is dog1's name the same as dog2's name? False\n"
     ]
    }
   ],
   "source": [
    "# Accessing Attributes\n",
    "# We use the dot (`.`)\n",
    "\n",
    "# `object_name.attribute_name`\n",
    "\n",
    "\n",
    "print(f\"Dog 1's Name: {dog1.name}\")\n",
    "print(f\"Dog 1's Breed: {dog1.breed}\")\n",
    "print(f\"Dog 1's Age: {dog1.age}\")\n",
    "\n",
    "\n",
    "print(f\"\\nDog 2's Name: {dog2.name}\")\n",
    "print(f\"Dog 2's Breed: {dog2.breed}\")\n",
    "print(f\"Dog 2's Age: {dog2.age}\")\n",
    "\n",
    "print(f\"\\nIs dog1's name the same as dog2's name? {dog1.name == dog2.name}\")"
   ]
  },
  {
   "cell_type": "code",
   "execution_count": 46,
   "id": "bcf3a3f3-ace7-4490-968a-ceb90b9f2674",
   "metadata": {},
   "outputs": [],
   "source": [
    "class Dog:\n",
    "    def __init__(self, name, breed, age):\n",
    "        self.name=name\n",
    "        self.breed=breed\n",
    "        self.age=age\n",
    "        print(f\"A new dog object named {self.name} was created!\")\n",
    "\n",
    "    def bark(self):\n",
    "        print(f\"{self.name} says: Woof! Woof!\")\n",
    "\n",
    "    def describe(self):\n",
    "        print(f\"This is {self.name}, a {self.age}-year-old {self.breed}.\")\n",
    "        \n",
    "    def have_birthday(self):\n",
    "        self.age += 1\n",
    "        print(f\"Happy Birthday, {self.name}! You are now {self.age} years old.\")"
   ]
  },
  {
   "cell_type": "code",
   "execution_count": 47,
   "id": "df049c04-25cc-47ba-883c-1d66967b3bb1",
   "metadata": {},
   "outputs": [
    {
     "name": "stdout",
     "output_type": "stream",
     "text": [
      "A new dog object named Lucky was created!\n"
     ]
    }
   ],
   "source": [
    "dog1=Dog(\"Lucky\",\"JS\",2)"
   ]
  },
  {
   "cell_type": "code",
   "execution_count": 49,
   "id": "a8f23979-a59b-4e97-bd55-248c6082f659",
   "metadata": {},
   "outputs": [
    {
     "name": "stdout",
     "output_type": "stream",
     "text": [
      "Lucky says: Woof! Woof!\n",
      "This is Lucky, a 2-year-old JS.\n",
      "Happy Birthday, Lucky! You are now 3 years old.\n"
     ]
    }
   ],
   "source": [
    "dog1.bark()\n",
    "dog1.describe()\n",
    "dog1.have_birthday()"
   ]
  },
  {
   "cell_type": "code",
   "execution_count": 50,
   "id": "f48e11a6-c34b-4f93-b964-7f13ea8d3d43",
   "metadata": {},
   "outputs": [
    {
     "name": "stdout",
     "output_type": "stream",
     "text": [
      "A new dog object named Buddy was created!\n",
      "A new dog object named Lucy was created!\n"
     ]
    }
   ],
   "source": [
    "dog1=Dog(\"Buddy\",\"Golden Retriever\",3)\n",
    "dog2=Dog(\"Lucy\",\"poddle\",5)"
   ]
  },
  {
   "cell_type": "code",
   "execution_count": 52,
   "id": "46f5801b-17c8-46ba-b3c5-a7f1ac082451",
   "metadata": {},
   "outputs": [
    {
     "name": "stdout",
     "output_type": "stream",
     "text": [
      "\n",
      "---Dog 1 actions---\n",
      "This is Buddy, a 4-year-old Golden Retriever.\n",
      "Buddy says: Woof! Woof!\n",
      "Happy Birthday, Buddy! You are now 5 years old.\n",
      "\n",
      "---Dog 2 actions---\n",
      "This is Lucy, a 5-year-old poddle.\n",
      "Lucy says: Woof! Woof!\n",
      "Happy Birthday, Lucy! You are now 6 years old.\n"
     ]
    }
   ],
   "source": [
    "print(\"\\n---Dog 1 actions---\")\n",
    "dog1.describe()\n",
    "dog1.bark()\n",
    "dog1.have_birthday()\n",
    "\n",
    "print(\"\\n---Dog 2 actions---\")\n",
    "dog2.describe()\n",
    "dog2.bark()\n",
    "dog2.have_birthday()\n"
   ]
  },
  {
   "cell_type": "markdown",
   "id": "7141f63f",
   "metadata": {},
   "source": [
    "#### Abstraction means:\n",
    "* Hiding complicated stuff (like wires inside the controller).\n",
    "* Showing only what’s important (the buttons you need to press).\n"
   ]
  },
  {
   "cell_type": "code",
   "execution_count": 3,
   "id": "d45344a8",
   "metadata": {},
   "outputs": [],
   "source": [
    "# ABC (Abstract Base Class)\n",
    "from abc import ABC, abstractmethod\n",
    "\n",
    "# Create an abstract class\n",
    "class Animal(ABC):\n",
    "   \n",
    "    @abstractmethod\n",
    "    def make_sound(self):\n",
    "        pass\n",
    "   \n",
    "    @abstractmethod\n",
    "    def move(self):\n",
    "        print(\"Hello\")\n",
    "        return \"Namaste\"\n",
    "   \n",
    "    def sleep(self):\n",
    "        print(\"Zzz... sleeping\")\n",
    "        return"
   ]
  },
  {
   "cell_type": "code",
   "execution_count": 4,
   "id": "7adce45b",
   "metadata": {},
   "outputs": [],
   "source": [
    "# Create concrete classes that inherit from Animal\n",
    "class Dog(Animal):\n",
    "   \n",
    "    def make_sound(self):\n",
    "        print(\"Woof! Woof!\")\n",
    "   \n",
    "    def move(self):\n",
    "        print(\"Running on four legs\")\n",
    "\n",
    "class Bird(Animal):\n",
    "   \n",
    "    def make_sound(self):\n",
    "       \n",
    "        return f\"Chirp! Chirp!\"\n",
    "   \n",
    "    def move(self):\n",
    "        print(\"Flying in the sky\")"
   ]
  },
  {
   "cell_type": "code",
   "execution_count": 5,
   "id": "8fdf5414",
   "metadata": {},
   "outputs": [
    {
     "name": "stdout",
     "output_type": "stream",
     "text": [
      "Zzz... sleeping\n",
      "successfully instantiate the class Dog\n"
     ]
    }
   ],
   "source": [
    "try:\n",
    "    dog = Dog()\n",
    "    dog.sleep()\n",
    "    print(\"successfully instantiate the class Dog\")\n",
    "except TypeError as e:\n",
    "    print(f\"Error: {e}\")"
   ]
  },
  {
   "cell_type": "code",
   "execution_count": 7,
   "id": "736d715d",
   "metadata": {},
   "outputs": [
    {
     "name": "stdout",
     "output_type": "stream",
     "text": [
      "\n",
      "Dog behaviours: \n",
      "Woof! Woof!\n",
      "Running on four legs\n",
      "Zzz... sleeping\n"
     ]
    }
   ],
   "source": [
    "#Create instances of concrete classes\n",
    "dog=Dog()\n",
    "bird=Bird()\n",
    "\n",
    "#Demonstrate abstraction in actions\n",
    "print(\"\\nDog behaviours: \")\n",
    "dog.make_sound()\n",
    "dog.move()\n",
    "dog.sleep()"
   ]
  },
  {
   "cell_type": "code",
   "execution_count": 8,
   "id": "aa240027",
   "metadata": {},
   "outputs": [
    {
     "name": "stdout",
     "output_type": "stream",
     "text": [
      "\n",
      "Bird behaviours\n",
      "Flying in the sky\n",
      "Zzz... sleeping\n"
     ]
    }
   ],
   "source": [
    "print(\"\\nBird behaviours\")\n",
    "bird.make_sound()\n",
    "bird.move()\n",
    "bird.sleep()"
   ]
  },
  {
   "cell_type": "markdown",
   "id": "b44b6910",
   "metadata": {},
   "source": [
    "## Real-world Analogy for OOP (Object-Oriented Programming)\n",
    "\n",
    "Here's how a housing colony analogy maps to key OOP concepts in Python:\n",
    "\n",
    "|  **Real-world Concept**     |  **OOP Equivalent**       |\n",
    "|------------------------------|-----------------------------|\n",
    "| House blueprint              | Class                       |\n",
    "| Individual house             | Object / Instance           |\n",
    "| Colony of houses             | Collection of objects       |\n",
    "| Color, owner, furniture      | Object attributes           |\n",
    "| Paint one house              | Modify object state         |\n",
    "\n",
    "###  Explanation:\n",
    "- A **class** is like a house **blueprint**: it defines the structure.\n",
    "- Each **object** is a real **house**, built using the class.\n",
    "- A **colony** is a collection of similar houses (objects).\n",
    "- Each house can have **different colors or owners** (attributes).\n",
    "- You can **change the color** of one house without affecting others (modify object state)."
   ]
  },
  {
   "cell_type": "code",
   "execution_count": 22,
   "id": "36fbd9ae",
   "metadata": {},
   "outputs": [],
   "source": [
    "# ### Session Objectives:\n",
    "# *   Understand the concept of Inheritance and its benefits (code reuse, modeling relationships).\n",
    "# *   Learn how to define subclasses that inherit from superclasses in Python.\n",
    "# *   Understand and implement Method Overriding.\n",
    "# *   Learn how to use the `super()` function to call methods from the parent class.\n",
    "# *   Understand the concept of Encapsulation and its importance (data hiding, protection).\n",
    "# *   Learn Python conventions for indicating \"private\" or \"protected\" attributes/methods (`__` and `_`)"
   ]
  },
  {
   "cell_type": "code",
   "execution_count": 17,
   "id": "857a9c28",
   "metadata": {},
   "outputs": [
    {
     "name": "stdout",
     "output_type": "stream",
     "text": [
      "Object created: Alice\n",
      "Hi my name is Alice and I am 19 years old\n",
      "Alice is walking.\n"
     ]
    }
   ],
   "source": [
    "#defining superclass and subclass\n",
    "\n",
    "class Person:\n",
    "    def __init__(self, name, age):\n",
    "        self.name=name\n",
    "        self.age=age\n",
    "        print(f\"Object created: {self.name}\")\n",
    "\n",
    "    def introduce(self):\n",
    "        print(f\"Hi my name is {self.name} and I am {self.age} years old\")\n",
    "\n",
    "    def walk(self):\n",
    "        print(f\"{self.name} is walking.\")\n",
    "\n",
    "p1=Person(\"Alice\",19)\n",
    "p1.introduce()\n",
    "p1.walk()"
   ]
  },
  {
   "cell_type": "code",
   "execution_count": 20,
   "id": "ec4851f7",
   "metadata": {},
   "outputs": [],
   "source": [
    "class Student(Person):\n",
    "    def __init__(self,name,age,student_id,address):\n",
    "        super().__init__(name,age)\n",
    "        self.student_id=student_id\n",
    "        self.address=address\n",
    "\n",
    "    def printing_all(self):\n",
    "        print(f\"Name={self.name}\\nAge={self.age}\\nStudent_id={self.student_id}\\nAddress={self.address}\")    \n",
    "\n",
    "    # def introduce(self):\n",
    "    #     super().introduce()\n",
    "    #     print(f\"Hi my student id is {self.student_id} and I am from {self.address}.\")\n"
   ]
  },
  {
   "cell_type": "code",
   "execution_count": 21,
   "id": "d640dd41",
   "metadata": {},
   "outputs": [
    {
     "name": "stdout",
     "output_type": "stream",
     "text": [
      "Object created: Minendra\n",
      "Name=Minendra\n",
      "Age=19\n",
      "Student_id=15\n",
      "Address=BKT\n",
      "Hi my name is Minendra and I am 19 years old\n"
     ]
    }
   ],
   "source": [
    "student1=Student(\"Minendra\",19,15,\"BKT\")\n",
    "student1.printing_all()\n",
    "student1.introduce()"
   ]
  },
  {
   "cell_type": "markdown",
   "id": "9a6b7371",
   "metadata": {},
   "source": [
    "ENCAPSULATION\n",
    "# It involves **restricting direct access** to some of an object's components (data hiding).\n",
    "\n",
    "# **Why use Encapsulation?**\n",
    "# *   **Data Protection:** Prevent accidental or unwanted modification of an object's internal state from outside the class.\n",
    "# *   **Control:** The class controls how its data is accessed and modified (e.g., through specific methods like `deposit()` or `withdraw()` instead of directly changing a `balance` attribute).\n",
    "# *   **Simplicity:** Hides complex internal details from the user of the class, providing a simpler interface.\n",
    "# *   **Flexibility:** The internal implementation can change without affecting the code that uses the class, as long as the public interface (methods) remains the same."
   ]
  },
  {
   "cell_type": "markdown",
   "id": "e9da7f61",
   "metadata": {},
   "source": []
  }
 ],
 "metadata": {
  "kernelspec": {
   "display_name": "venv",
   "language": "python",
   "name": "python3"
  },
  "language_info": {
   "codemirror_mode": {
    "name": "ipython",
    "version": 3
   },
   "file_extension": ".py",
   "mimetype": "text/x-python",
   "name": "python",
   "nbconvert_exporter": "python",
   "pygments_lexer": "ipython3",
   "version": "3.12.1"
  }
 },
 "nbformat": 4,
 "nbformat_minor": 5
}
