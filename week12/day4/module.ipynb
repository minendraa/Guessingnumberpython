{
 "cells": [
  {
   "cell_type": "code",
   "execution_count": 10,
   "id": "8d962356",
   "metadata": {},
   "outputs": [],
   "source": [
    "import math # importing the built in math function "
   ]
  },
  {
   "cell_type": "code",
   "execution_count": 11,
   "id": "346451b1",
   "metadata": {},
   "outputs": [
    {
     "name": "stdout",
     "output_type": "stream",
     "text": [
      "4.0\n",
      "3.141592653589793\n",
      "120\n",
      "8.0\n",
      "6\n"
     ]
    }
   ],
   "source": [
    "print(math.sqrt(16))\n",
    "print(math.pi)\n",
    "print(math.factorial(5))\n",
    "print(math.pow(2,3))\n",
    "print(math.gcd(48,18))"
   ]
  },
  {
   "cell_type": "code",
   "execution_count": 12,
   "id": "007b87c7",
   "metadata": {},
   "outputs": [
    {
     "name": "stdout",
     "output_type": "stream",
     "text": [
      "4.0\n",
      "3.141592653589793\n",
      "120\n",
      "8.0\n",
      "6\n"
     ]
    }
   ],
   "source": [
    "from math import sqrt,pi,factorial,pow,gcd #importing specific functions and constants\n",
    "\n",
    "print(sqrt(16))\n",
    "print(pi)\n",
    "print(factorial(5))\n",
    "print(pow(2,3))\n",
    "print(gcd(48,18))\n"
   ]
  },
  {
   "cell_type": "code",
   "execution_count": 13,
   "id": "7de2b4d6",
   "metadata": {},
   "outputs": [],
   "source": [
    "import random"
   ]
  },
  {
   "cell_type": "code",
   "execution_count": 14,
   "id": "dad213a2",
   "metadata": {},
   "outputs": [
    {
     "name": "stdout",
     "output_type": "stream",
     "text": [
      "10\n"
     ]
    }
   ],
   "source": [
    "from random import randint\n",
    "print(randint(1,10))"
   ]
  },
  {
   "cell_type": "code",
   "execution_count": 15,
   "id": "b190a572",
   "metadata": {},
   "outputs": [
    {
     "name": "stdout",
     "output_type": "stream",
     "text": [
      "2025-05-30 11:39:24.589603\n",
      "2025-05-30\n",
      "11:39:24\n",
      "2025-06-05 11:39:24.589603\n",
      "2025-05-24 11:39:24.589603\n"
     ]
    }
   ],
   "source": [
    "import datetime\n",
    "\n",
    "#print(datetime.datetime)\n",
    "\n",
    "print(datetime.datetime.now())\n",
    "print(datetime.date.today())\n",
    "\n",
    "#print(datetime.datetime.now().strfttime(\"%Y-%m-%d %H:%M:%S\")) # formatting the current date and time\n",
    "\n",
    "print(datetime.datetime.now().strftime(\"%H:%M:%S\"))\n",
    "\n",
    "print(datetime.datetime.now()+datetime.timedelta(days=6))\n",
    "print(datetime.datetime.now()-datetime.timedelta(days=6))"
   ]
  },
  {
   "cell_type": "code",
   "execution_count": 16,
   "id": "bfda6c22",
   "metadata": {},
   "outputs": [
    {
     "name": "stdout",
     "output_type": "stream",
     "text": [
      "Specific date and time:  2025-05-26\n",
      "specific date and time:  2025-05-26 01:30:45\n"
     ]
    }
   ],
   "source": [
    "import datetime\n",
    "\n",
    "#create specific date\n",
    "specific_date=datetime.date(2025,5,26)\n",
    "print(\"Specific date and time: \",specific_date)\n",
    "\n",
    "#Create specific date and time \n",
    "specific_dateandtime=datetime.datetime(2025,5,26,1,30,45)\n",
    "print(\"specific date and time: \",specific_dateandtime)"
   ]
  },
  {
   "cell_type": "code",
   "execution_count": 1,
   "id": "cb85994d",
   "metadata": {},
   "outputs": [
    {
     "name": "stdout",
     "output_type": "stream",
     "text": [
      "c:\\Users\\minen\\OneDrive\\Desktop\\TechAxis\n",
      "['.git', '.gitignore', 'AI_Train-O-Ship.pdf', 'Guessingnumberpython', 'module.ipynb', 'README.md', 'requirements.txt', 'venv']\n",
      "['.git', '.gitignore', 'day1', 'day2', 'day3', 'day4', 'homeproject', 'README.md', 'requirements.txt']\n",
      "False\n",
      "c:\\Users\\minen\\OneDrive\\Desktop\\TechAxis\\example.txt\n"
     ]
    }
   ],
   "source": [
    "import os \n",
    "\n",
    "print(os.getcwd())\n",
    "print(os.listdir('.'))\n",
    "print(os.listdir('./Guessingnumberpython'))\n",
    "print(os.path.exists('example.txt'))\n",
    "print(os.path.join(os.getcwd(),'example.txt'))"
   ]
  },
  {
   "cell_type": "code",
   "execution_count": 4,
   "id": "68a8c251",
   "metadata": {},
   "outputs": [
    {
     "name": "stdout",
     "output_type": "stream",
     "text": [
      "42\n",
      "45\n",
      "this is a message....\n",
      "15\n"
     ]
    }
   ],
   "source": [
    "import custom\n",
    "\n",
    "print(custom.val)\n",
    "custom.print_val(45)\n",
    "custom.print_msg()\n",
    "print(custom.add(5,10))\n",
    "\n",
    "\n"
   ]
  }
 ],
 "metadata": {
  "kernelspec": {
   "display_name": "venv",
   "language": "python",
   "name": "python3"
  },
  "language_info": {
   "codemirror_mode": {
    "name": "ipython",
    "version": 3
   },
   "file_extension": ".py",
   "mimetype": "text/x-python",
   "name": "python",
   "nbconvert_exporter": "python",
   "pygments_lexer": "ipython3",
   "version": "3.12.1"
  }
 },
 "nbformat": 4,
 "nbformat_minor": 5
}
