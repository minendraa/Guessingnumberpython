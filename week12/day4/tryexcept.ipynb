{
 "cells": [
  {
   "cell_type": "code",
   "execution_count": 1,
   "id": "6cad2b44",
   "metadata": {},
   "outputs": [
    {
     "name": "stdout",
     "output_type": "stream",
     "text": [
      "division by zero\n"
     ]
    }
   ],
   "source": [
    "#Zerodivision error\n",
    "try:\n",
    "    x=10\n",
    "    res=x/0\n",
    "except ZeroDivisionError as e:\n",
    "    print(e)"
   ]
  },
  {
   "cell_type": "code",
   "execution_count": 5,
   "id": "fc84a59a",
   "metadata": {},
   "outputs": [
    {
     "name": "stdout",
     "output_type": "stream",
     "text": [
      "name 'k' is not defined\n"
     ]
    }
   ],
   "source": [
    "try:\n",
    "    print(k)\n",
    "except NameError as b:\n",
    "    print(b)"
   ]
  },
  {
   "cell_type": "markdown",
   "id": "aec01a43",
   "metadata": {},
   "source": [
    "#Copying the file"
   ]
  },
  {
   "cell_type": "code",
   "execution_count": null,
   "id": "d775be93",
   "metadata": {},
   "outputs": [
    {
     "name": "stdout",
     "output_type": "stream",
     "text": [
      "An error occured.\n"
     ]
    }
   ],
   "source": [
    "#used to catch and manage errors\n",
    "#handling a simple exception\n",
    "try:\n",
    "    n=10\n",
    "    res=n/0\n",
    "#runs if there is an error in try block\n",
    "except:\n",
    "    print(\"An error occured.\")"
   ]
  },
  {
   "cell_type": "code",
   "execution_count": 8,
   "id": "b638f48b",
   "metadata": {},
   "outputs": [
    {
     "name": "stdout",
     "output_type": "stream",
     "text": [
      "Result is:  50.0\n",
      "Execution completed\n"
     ]
    }
   ],
   "source": [
    "try: \n",
    "    n=2\n",
    "    res=100/n\n",
    "except ZeroDivisionError as b:\n",
    "    print(\"You can't divide by zero.\")\n",
    "    print(b)\n",
    "\n",
    "except TabError as e:\n",
    "    print(\"Enter a valid number!\")\n",
    "    print(e)\n",
    "\n",
    "#runs if no exceptions are raised \n",
    "else:\n",
    "    print(\"Result is: \",res)\n",
    "\n",
    "#runs regardless of the outcome\n",
    "\n",
    "finally:\n",
    "    print(\"Execution completed\")\n",
    "    "
   ]
  }
 ],
 "metadata": {
  "kernelspec": {
   "display_name": "venv",
   "language": "python",
   "name": "python3"
  },
  "language_info": {
   "codemirror_mode": {
    "name": "ipython",
    "version": 3
   },
   "file_extension": ".py",
   "mimetype": "text/x-python",
   "name": "python",
   "nbconvert_exporter": "python",
   "pygments_lexer": "ipython3",
   "version": "3.12.1"
  }
 },
 "nbformat": 4,
 "nbformat_minor": 5
}
