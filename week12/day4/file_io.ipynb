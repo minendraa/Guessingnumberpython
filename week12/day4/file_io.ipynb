{
 "cells": [
  {
   "cell_type": "code",
   "execution_count": 3,
   "id": "b62c7523",
   "metadata": {},
   "outputs": [
    {
     "name": "stdout",
     "output_type": "stream",
     "text": [
      "\n"
     ]
    }
   ],
   "source": [
    "# reading a file\n",
    "file = open(\"./sample_files_directory/file_2.txt\", \"r\") # if the file does not exist it raises an error\n",
    "content = file.read()\n",
    "print(content)\n",
    "file.close() # ensure all results used by the file are released"
   ]
  },
  {
   "cell_type": "code",
   "execution_count": 4,
   "id": "1404cdfe",
   "metadata": {},
   "outputs": [],
   "source": [
    "# writes specific content to a file after erasing the previous content\n",
    "file = open(\"./sample_files_directory/file_1.txt\", \"w\") # if the file does not exist it creates a new file\n",
    "file.write(\"Hello, World!\")\n",
    "file.close()"
   ]
  },
  {
   "cell_type": "code",
   "execution_count": 5,
   "id": "e31d7c76",
   "metadata": {},
   "outputs": [],
   "source": [
    "file = open(\"./sample_files_directory/file_3.txt\", \"w\") # if the file does not exist it creates a new file\n",
    "file.write(\"Hello, World!\")\n",
    "file.close()"
   ]
  },
  {
   "cell_type": "code",
   "execution_count": 10,
   "id": "a8783660",
   "metadata": {},
   "outputs": [],
   "source": [
    "# adds specified content to the end of a file without erasing the previous content\n",
    "file = open(\"./sample_files_directory/file_2.txt\", \"a\") # if the file does not exist it creates a new file\n",
    "file.write(\"\\nThis is a new line added to the file.\")\n",
    "file.close()"
   ]
  },
  {
   "cell_type": "code",
   "execution_count": 8,
   "id": "9f98fc8d",
   "metadata": {},
   "outputs": [
    {
     "name": "stdout",
     "output_type": "stream",
     "text": [
      "Hello, World!\n",
      "This is a new line added to the file.\n"
     ]
    }
   ],
   "source": [
    "# with statement can be used to automatically close the file after the block of code is executed\n",
    "\n",
    "with open(\"./sample_files_directory/file_2.txt\", \"r\") as file:\n",
    "    content = file.read()\n",
    "    print(content)"
   ]
  }
 ],
 "metadata": {
  "kernelspec": {
   "display_name": "venv",
   "language": "python",
   "name": "python3"
  },
  "language_info": {
   "codemirror_mode": {
    "name": "ipython",
    "version": 3
   },
   "file_extension": ".py",
   "mimetype": "text/x-python",
   "name": "python",
   "nbconvert_exporter": "python",
   "pygments_lexer": "ipython3",
   "version": "3.13.3"
  }
 },
 "nbformat": 4,
 "nbformat_minor": 5
}
