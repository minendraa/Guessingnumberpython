{
 "cells": [
  {
   "cell_type": "markdown",
   "id": "ea1bb521-5956-4273-8517-92391bd26584",
   "metadata": {},
   "source": [
    "### Polymorphism"
   ]
  },
  {
   "cell_type": "raw",
   "id": "f0189786-71cc-402d-98e1-2ba00e219b56",
   "metadata": {},
   "source": [
    "\n",
    "# ### Session Objectives:\n",
    "# *   Understand the concept of Polymorphism, particularly \"Duck Typing\" in Python.\n",
    "# *   See how polymorphism works with function parameters and in class hierarchies.\n",
    "# *   Learn about Magic Methods (Dunder Methods) and their purpose.\n",
    "# *   Implement common magic methods like `__str__` and `__len__`.\n",
    "# *   Get a brief introduction to Operator Overloading using magic methods (e.g., `__add__`).\n"
   ]
  },
  {
   "cell_type": "code",
   "execution_count": null,
   "id": "41a528c7-f184-41ce-9092-41c14ae692ca",
   "metadata": {},
   "outputs": [],
   "source": []
  },
  {
   "cell_type": "raw",
   "id": "c5ff7616-dae7-4843-b85f-116c12865461",
   "metadata": {},
   "source": [
    "\n",
    "**Today's Focus:** We'll explore two powerful OOP concepts:\n",
    "  1.  **Polymorphism:** How objects of different types can be treated uniformly if they share a common interface (like methods with the same name). The term means \"many forms\".\n",
    "  2.  **Magic Methods:** Special methods in Python (like `__init__`) that start and end with double underscores (`__`). They allow our custom objects to work with built-in Python operations (like `print()`, `len()`, `+`)"
   ]
  },
  {
   "cell_type": "code",
   "execution_count": null,
   "id": "676cd133-6080-4a18-8f64-a7669b1a35d9",
   "metadata": {},
   "outputs": [],
   "source": []
  },
  {
   "cell_type": "code",
   "execution_count": 45,
   "id": "7f303ebf-d793-43e8-bd1f-337c23c22682",
   "metadata": {},
   "outputs": [],
   "source": [
    "# ## Part 2: Polymorphism (Approx. 30 mins)\n",
    "#\n",
    "# **Concept:** Polymorphism allows us to perform a single action in different ways. In programming, it means we can often use objects of different classes through the same interface (e.g., call the same method name on them).\n",
    "#\n",
    "# **Python's Approach: Duck Typing**\n",
    "# Python uses a concept often called \"Duck Typing\". The name comes from the saying:\n",
    "# > \"If it walks like a duck and it quacks like a duck, then it must be a duck.\"\n",
    "#\n",
    "# This means Python often cares more about whether an object *can do* something (does it have the right methods/attributes?) rather than what its *exact type* is. It doesn't require explicit interfaces or parent classes in all cases (though it works well with them too)."
   ]
  },
  {
   "cell_type": "code",
   "execution_count": null,
   "id": "58ebeb5d-c197-4afa-a9ea-041fc6b2d64e",
   "metadata": {},
   "outputs": [],
   "source": []
  },
  {
   "cell_type": "code",
   "execution_count": 46,
   "id": "e129f857-4555-46bd-85ec-09637d608224",
   "metadata": {},
   "outputs": [],
   "source": [
    "\n",
    "class Dog:\n",
    "    def speak(self):\n",
    "        print(\"Woof!\")\n",
    "\n",
    "class Cat:\n",
    "    def speak(self):\n",
    "        print(\"Meow!\")\n",
    "\n",
    "class Duck:\n",
    "    def speak(self):\n",
    "        print(\"Quack!\")\n",
    "\n",
    "# Create instances\n",
    "dog = Dog()\n",
    "cat = Cat()\n",
    "duck = Duck()"
   ]
  },
  {
   "cell_type": "code",
   "execution_count": null,
   "id": "2a317063-4ea4-46fb-8b83-f65c7aa47569",
   "metadata": {},
   "outputs": [],
   "source": []
  },
  {
   "cell_type": "code",
   "execution_count": 47,
   "id": "7698c61e-7d0a-4e9a-a953-de01221c03b5",
   "metadata": {},
   "outputs": [
    {
     "name": "stdout",
     "output_type": "stream",
     "text": [
      "Woof!\n",
      "Meow!\n",
      "Quack!\n",
      "This object doesn't know how to speak.\n"
     ]
    }
   ],
   "source": [
    "def make_it_speak(animal):\n",
    "    \n",
    "    try:\n",
    "        animal.speak()\n",
    "    except AttributeError:\n",
    "        print(\"This object doesn't know how to speak.\")\n",
    "\n",
    "\n",
    "make_it_speak(dog)\n",
    "make_it_speak(cat)\n",
    "make_it_speak(duck)\n",
    "\n",
    "\n",
    "# animal = [dog, cat, duck]\n",
    "# for i in animal:\n",
    "#     make_it_speak(i)\n",
    "\n",
    "make_it_speak(\"hello\") "
   ]
  },
  {
   "cell_type": "code",
   "execution_count": null,
   "id": "39cacb2b-6d64-4748-a355-7904060adf42",
   "metadata": {},
   "outputs": [],
   "source": []
  },
  {
   "cell_type": "raw",
   "id": "f3c14327-1d16-4d73-a3a8-92c791ab8e6a",
   "metadata": {},
   "source": [
    "# ## Part 3: Magic Methods (Dunder Methods) \n",
    "#\n",
    "# **Concept:** Special methods that Python implicitly calls when you use certain syntax or built-in functions on your objects. \n",
    "They are easily recognizable by the double underscores at the beginning and end of their names (e.g., `__init__`, `__str__`). \n",
    "# They allow you to define how your custom objects behave like built-in types."
   ]
  },
  {
   "cell_type": "code",
   "execution_count": 48,
   "id": "a76cb042-f064-4cfe-bd0f-ff6033fbcdf7",
   "metadata": {},
   "outputs": [],
   "source": [
    "\n",
    "# ### Common Magic Method: `__str__(self)`\n",
    "#\n",
    "# *   **Purpose:** Returns a user-friendly string representation of the object.\n",
    "# *   **Called By:** `print(obj)`, `str(obj)`, string formatting (like f-strings `{obj}`).\n",
    "# *   **Return Value:** Must return a string.\n",
    "#\n",
    "# If you don't define `__str__`, Python uses a default representation (often showing the class name and memory address), which isn't very informative."
   ]
  },
  {
   "cell_type": "code",
   "execution_count": null,
   "id": "3cfa6805-7ef5-4862-a188-ce14034139ab",
   "metadata": {},
   "outputs": [],
   "source": []
  },
  {
   "cell_type": "code",
   "execution_count": 49,
   "id": "1ad44fa9-2677-4e31-8086-c4d69d2be97a",
   "metadata": {},
   "outputs": [
    {
     "name": "stdout",
     "output_type": "stream",
     "text": [
      "--- Printing book object (default) ---\n",
      "<__main__.Book object at 0x00000217EA2AFCB0>\n",
      "<__main__.Book object at 0x00000217EA2AFCB0>\n"
     ]
    }
   ],
   "source": [
    "class Book:\n",
    "    def __init__(self, title, author, pages):\n",
    "        self.title = title\n",
    "        self.author = author\n",
    "        self.pages = pages\n",
    "\n",
    "    # def __str__(self):\n",
    "    #     # This defines what print(book_object) will show\n",
    "    #     return f\"'{self.title}' by {self.author} ({self.pages} pages)\"\n",
    "\n",
    "# Create a book instance\n",
    "book1 = Book(\"Python Crash Course\", \"Eric Matthes\", 193)\n",
    "\n",
    "# Print the book object\n",
    "print(\"--- Printing book object (default) ---\")\n",
    "print(book1)\n",
    "print(str(book1))"
   ]
  },
  {
   "cell_type": "code",
   "execution_count": null,
   "id": "54988df8-1273-480c-a4ea-730b717ca517",
   "metadata": {},
   "outputs": [],
   "source": []
  },
  {
   "cell_type": "code",
   "execution_count": 50,
   "id": "60137e7a-676a-4728-8e6a-9c14d23d6b19",
   "metadata": {},
   "outputs": [
    {
     "name": "stdout",
     "output_type": "stream",
     "text": [
      "\n",
      "--- Printing book object (with __str__) ---\n",
      "'Pride and Prejudice' by Jane Austen (279 pages)\n",
      "'Pride and Prejudice' by Jane Austen (279 pages)\n",
      "My favorite book is: 'Pride and Prejudice' by Jane Austen (279 pages)\n"
     ]
    }
   ],
   "source": [
    "class Book:\n",
    "    def __init__(self, title, author, pages):\n",
    "        self.title = title\n",
    "        self.author = author\n",
    "        self.pages = pages\n",
    "\n",
    "    # Adding the __str__ magic method\n",
    "    def __str__(self):\n",
    "       return f\"'{self.title}' by {self.author} ({self.pages} pages)\"\n",
    "\n",
    "book2 = Book(\"Pride and Prejudice\", \"Jane Austen\", 279)\n",
    "\n",
    "# Print the book object again - now __str__ is called\n",
    "print(\"\\n--- Printing book object (with __str__) ---\")\n",
    "print(book2)\n",
    "print(str(book2))\n",
    "print(f\"My favorite book is: {book2}\") "
   ]
  },
  {
   "cell_type": "code",
   "execution_count": null,
   "id": "b417f02c-2d95-4e17-aa7d-16b2de5ee821",
   "metadata": {},
   "outputs": [],
   "source": []
  },
  {
   "cell_type": "code",
   "execution_count": 51,
   "id": "ecde8bf3-c073-4257-80af-60f0ec441af0",
   "metadata": {},
   "outputs": [],
   "source": [
    "\n",
    "# ### Common Magic Method: `__len__(self)`\n",
    "#\n",
    "# *   **Purpose:** Returns the \"length\" of the object.\n",
    "# *   **Called By:** `len(obj)`.\n",
    "# *   **Return Value:** Must return a non-negative integer.\n",
    "#\n",
    "# Useful for objects that represent collections or have a quantifiable size."
   ]
  },
  {
   "cell_type": "code",
   "execution_count": null,
   "id": "84d44437-9397-4aec-b6df-42a4232ad3aa",
   "metadata": {},
   "outputs": [],
   "source": []
  },
  {
   "cell_type": "code",
   "execution_count": 52,
   "id": "2ea2d773-3ff7-429b-93db-c89c89bb6532",
   "metadata": {},
   "outputs": [
    {
     "name": "stdout",
     "output_type": "stream",
     "text": [
      "Length of playlist: 0\n",
      "Playlist 'Chill Vibes' (0 songs)\n",
      "Added 'Weightless ' to playlist 'Chill Vibes'.\n",
      "Added 'Teardrop ' to playlist 'Chill Vibes'.\n",
      "Added 'Yesterday' to playlist 'Chill Vibes'.\n",
      "\n",
      "Length of playlist now: 3\n",
      "Playlist 'Chill Vibes' (3 songs):\n",
      "  - Weightless \n",
      "  - Teardrop \n",
      "  - Yesterday\n"
     ]
    }
   ],
   "source": [
    "class Playlist:\n",
    "    def __init__(self, name):\n",
    "        self.name = name\n",
    "        self.songs = [] \n",
    "\n",
    "    def add_song(self, title):\n",
    "        self.songs.append(title)\n",
    "        print(f\"Added '{title}' to playlist '{self.name}'.\")\n",
    "\n",
    "    # Magic method to define the 'length' of a playlist\n",
    "    def __len__(self):\n",
    "        \n",
    "        return len(self.songs)\n",
    "\n",
    "    # Let's add __str__ too for better printing\n",
    "    def __str__(self):\n",
    "        song_list = \"\\n  - \".join(self.songs)\n",
    "        if not song_list:\n",
    "             return f\"Playlist '{self.name}' (0 songs)\"\n",
    "        return f\"Playlist '{self.name}' ({len(self)} songs):\\n  - {song_list}\"\n",
    "\n",
    "\n",
    "# Create a playlist\n",
    "my_playlist = Playlist(\"Chill Vibes\")\n",
    "\n",
    "# Check its length (initially 0)\n",
    "print(f\"Length of playlist: {len(my_playlist)}\")\n",
    "print(my_playlist)\n",
    "\n",
    "# Add songs\n",
    "my_playlist.add_song(\"Weightless \")\n",
    "my_playlist.add_song(\"Teardrop \")\n",
    "my_playlist.add_song(\"Yesterday\")\n",
    "\n",
    "# Check its length again\n",
    "print(f\"\\nLength of playlist now: {len(my_playlist)}\")\n",
    "\n",
    "# Print the playlist using its __str__ method\n",
    "print(my_playlist)"
   ]
  },
  {
   "cell_type": "code",
   "execution_count": null,
   "id": "9bed6e3d-5c14-48d8-acb4-7ecbee64fa12",
   "metadata": {},
   "outputs": [],
   "source": []
  },
  {
   "cell_type": "code",
   "execution_count": 53,
   "id": "0c9b04b6-acf4-4bac-8ea1-437a220759bf",
   "metadata": {},
   "outputs": [
    {
     "name": "stdout",
     "output_type": "stream",
     "text": [
      "Vector(1, 2)\n",
      "v1 = Vector(1, 2)\n",
      "v2 = Vector(3, 4)\n",
      "v1 + v2 = Vector(4, 6)\n",
      "Is v_sum a Vector2D? True\n",
      "Does v1 == v2? False\n",
      "Does v1 == v4? True\n",
      "Does v_sum == v3? True\n"
     ]
    }
   ],
   "source": [
    "\n",
    "# ### Brief Intro to Operator Overloading\n",
    "# Magic methods also allow you to define how standard operators (`+`, `-`, `*`, `/`, `==`, `<`, `>`, etc.) work with your custom objects. \n",
    "# This is called **operator overloading**.\n",
    "\n",
    "# Example: Using `__add__(self, other)` to overload the `+` operator.\n",
    "\n",
    "\n",
    "class Vector2D:\n",
    "    def __init__(self, x, y):\n",
    "        self.x = x\n",
    "        self.y = y\n",
    "\n",
    "    def __str__(self):\n",
    "        return f\"Vector({self.x}, {self.y})\"\n",
    "\n",
    "    # Overload the + operator for Vector2D objects\n",
    "    def __add__(self, other):\n",
    "        # Check if the 'other' object is also a Vector2D (good practice)\n",
    "        if isinstance(other, Vector2D):\n",
    "            # Return a *new* Vector2D object representing the sum\n",
    "            new_x = self.x + other.x\n",
    "            new_y = self.y + other.y\n",
    "            return Vector2D(new_x, new_y)\n",
    "        else:\n",
    "            # Indicate that addition with this type is not supported\n",
    "            return NotImplemented # Special value\n",
    "\n",
    "    # Example: Overload == operator\n",
    "    def __eq__(self, other):\n",
    "        if isinstance(other, Vector2D):\n",
    "            return self.x == other.x and self.y == other.y\n",
    "        return False\n",
    "\n",
    "# Create some vectors\n",
    "v1 = Vector2D(1, 2)\n",
    "v2 = Vector2D(3, 4)\n",
    "v3 = Vector2D(4, 6)\n",
    "v4 = Vector2D(1, 2)\n",
    "\n",
    "print(v1)\n",
    "\n",
    "print(f\"v1 = {v1}\")\n",
    "print(f\"v2 = {v2}\")\n",
    "\n",
    "# Use the overloaded + operator\n",
    "v_sum = v1 + v2\n",
    "print(f\"v1 + v2 = {v_sum}\")\n",
    "print(f\"Is v_sum a Vector2D? {isinstance(v_sum, Vector2D)}\")\n",
    "\n",
    "# Use the overloaded == operator\n",
    "print(f\"Does v1 == v2? {v1 == v2}\")\n",
    "print(f\"Does v1 == v4? {v1 == v4}\") # Should be True because of __eq__\n",
    "print(f\"Does v_sum == v3? {v_sum == v3}\") # Should be True"
   ]
  },
  {
   "cell_type": "code",
   "execution_count": null,
   "id": "cadfaa60-922b-45fa-82ab-81baeee2cc85",
   "metadata": {},
   "outputs": [],
   "source": []
  },
  {
   "cell_type": "code",
   "execution_count": 54,
   "id": "8f7e46aa-d355-49b5-b5ac-f67c7d9ef2cd",
   "metadata": {},
   "outputs": [],
   "source": [
    "\n",
    "# Other common operator magic methods include:\n",
    "# `__sub__(self, other)` for `-`\n",
    "# `__mul__(self, other)` for `*`\n",
    "# `__lt__(self, other)` for `<`\n",
    "# `__gt__(self, other)` for `>`\n",
    "# `__eq__(self, other)` for `==`\n",
    "# ...and many more!"
   ]
  },
  {
   "cell_type": "code",
   "execution_count": null,
   "id": "3cbdaee1-9e7a-4f66-a6b2-faf683b96679",
   "metadata": {},
   "outputs": [],
   "source": []
  },
  {
   "cell_type": "code",
   "execution_count": 55,
   "id": "8070d198-0a50-43b6-8af6-259636c59b4d",
   "metadata": {},
   "outputs": [],
   "source": [
    "# ## Part 4: Activity & Exercises \n",
    "#\n",
    "# **Activity: Enhance the `ShoppingCart`**\n",
    "#\n",
    "# 1.  Define a simple `Product` class:\n",
    "#     *   It should have `name` (string) and `price` (float) attributes set in `__init__`.\n",
    "#     *   Implement the `__str__` method to return a string like \"Product Name: $Price\" (e.g., \"Laptop: $1200.50\").\n",
    "# 2.  Define a `ShoppingCart` class:\n",
    "#     *   It should have an internal list (e.g., `self._items`) to store `Product` objects, initialized as empty in `__init__`.\n",
    "#     *   Implement an `add_item(self, product)` method that adds a `Product` object to the internal list. Ensure it only adds `Product` objects (use `isinstance`).\n",
    "#     *   Implement the `__len__(self)` method to return the number of *distinct products* in the cart.\n",
    "#     *   Implement a `get_total_price(self)` method that calculates and returns the sum of the prices of all items in the cart.\n",
    "#     *   Implement the `__str__(self)` method to return a multi-line string representing the cart. It should:\n",
    "#         *   Start with something like \"Shopping Cart ({number} items):\". Use `__len__` here.\n",
    "#         *   List each product on a new line (using the `Product`'s `__str__`). Indent the product lines slightly (e.g., with \"  - \").\n",
    "#         *   End with the total price, like \"Total Price: $XXX.XX\". Use `get_total_price`.\n",
    "# 3.  Test your classes: Create a few `Product` objects, add them to a `ShoppingCart` instance, then print the cart and check its length."
   ]
  },
  {
   "cell_type": "code",
   "execution_count": null,
   "id": "a4ce1b3c-b922-4ca0-9ed5-b0018f94c740",
   "metadata": {},
   "outputs": [],
   "source": []
  },
  {
   "cell_type": "code",
   "execution_count": 56,
   "id": "13dd620c-e661-410a-805e-d97dbc6e8ff9",
   "metadata": {},
   "outputs": [],
   "source": [
    "class Product:\n",
    "    def __init__(self, name: str, price: float):\n",
    "        self.name = name\n",
    "        self.price = price\n",
    "\n",
    "    def __str__(self):\n",
    "        # Format price to 2 decimal places\n",
    "        return f\"{self.name}: ${self.price:.2f}\"\n",
    "\n",
    "# 2. Define the ShoppingCart class\n",
    "class ShoppingCart:\n",
    "    def __init__(self):\n",
    "        self._items = [] # Internal list for Product objects\n",
    "\n",
    "    def add_item(self, product):\n",
    "        if isinstance(product, Product):\n",
    "            self._items.append(product)\n",
    "            print(f\"Added {product.name} to cart.\")\n",
    "        else:\n",
    "            print(\"Error: Can only add Product objects to the cart.\")\n",
    "\n",
    "    # Returns the number of items\n",
    "    def __len__(self):\n",
    "        return len(self._items)\n",
    "\n",
    "    # Calculates total price\n",
    "    def get_total_price(self):\n",
    "        total = 0.0\n",
    "        for item in self._items:\n",
    "            total += item.price\n",
    "        return total\n",
    "\n",
    "    # String representation of the cart\n",
    "    def __str__(self):\n",
    "        num_items = len(self) # Use __len__\n",
    "        header = f\"Shopping Cart ({num_items} items):\"\n",
    "        if num_items == 0:\n",
    "            return header + \"\\n  (Cart is empty)\\nTotal Price: $0.00\"\n",
    "\n",
    "        item_lines = []\n",
    "        for item in self._items:\n",
    "            # Use Product's __str__ implicitly here\n",
    "            item_lines.append(f\"  - {item}\")\n",
    "\n",
    "        items_string = \"\\n\".join(item_lines)\n",
    "        total_price = self.get_total_price() # Use the method\n",
    "        footer = f\"Total Price: ${total_price:.2f}\"\n",
    "\n",
    "        return f\"{header}\\n{items_string}\\n{footer}\""
   ]
  },
  {
   "cell_type": "code",
   "execution_count": null,
   "id": "1ce1719a-e319-4765-ab95-d7fa8aab7b6c",
   "metadata": {},
   "outputs": [],
   "source": []
  },
  {
   "cell_type": "code",
   "execution_count": 57,
   "id": "920fbba5-9f47-4fc1-8c84-04ad03553a4c",
   "metadata": {},
   "outputs": [
    {
     "name": "stdout",
     "output_type": "stream",
     "text": [
      "\n",
      "Initial cart length: 0\n",
      "Shopping Cart (0 items):\n",
      "  (Cart is empty)\n",
      "Total Price: $0.00\n",
      "\n",
      "--- Adding items ---\n",
      "Added Laptop to cart.\n",
      "Added Mouse to cart.\n",
      "Added Keyboard to cart.\n",
      "Error: Can only add Product objects to the cart.\n",
      "\n",
      "--- Cart details ---\n",
      "Number of items in cart: 3\n",
      "Shopping Cart (3 items):\n",
      "  - Laptop: $1200.50\n",
      "  - Mouse: $25.00\n",
      "  - Keyboard: $75.99\n",
      "Total Price: $1301.49\n"
     ]
    }
   ],
   "source": [
    "# 3. Create Products\n",
    "p1 = Product(\"Laptop\", 1200.50)\n",
    "p2 = Product(\"Mouse\", 25.00)\n",
    "p3 = Product(\"Keyboard\", 75.99)\n",
    "p4 = Product(\"Webcam\", 55.00)\n",
    "\n",
    "# Create a Cart\n",
    "cart = ShoppingCart()\n",
    "print(f\"\\nInitial cart length: {len(cart)}\")\n",
    "print(cart)\n",
    "\n",
    "\n",
    "# Add items to cart\n",
    "print(\"\\n--- Adding items ---\")\n",
    "cart.add_item(p1)\n",
    "cart.add_item(p2)\n",
    "cart.add_item(p3)\n",
    "cart.add_item(\"Not a Product\") # Test error handling\n",
    "\n",
    "# Print cart details\n",
    "print(\"\\n--- Cart details ---\")\n",
    "print(f\"Number of items in cart: {len(cart)}\") # Test __len__\n",
    "print(cart) # Test __str__ (which uses Product's __str__ and get_total_price)\n"
   ]
  },
  {
   "cell_type": "code",
   "execution_count": 58,
   "id": "d55e381b-7c91-4ecd-a8ee-bc11c2c52e55",
   "metadata": {},
   "outputs": [
    {
     "name": "stdout",
     "output_type": "stream",
     "text": [
      "Ford\n",
      "Mustang\n",
      "Move!\n",
      "Ibiza\n",
      "Touring 20\n",
      "Sail!\n",
      "Boeing\n",
      "747\n",
      "Fly!\n"
     ]
    }
   ],
   "source": [
    "# Method overriding\n",
    "\n",
    "class Vehicle:\n",
    "  def __init__(self, brand, model):\n",
    "    self.brand = brand\n",
    "    self.model = model\n",
    "\n",
    "  def move(self):\n",
    "    print(\"Move!\")\n",
    "\n",
    "class Car(Vehicle):\n",
    "  pass\n",
    "\n",
    "class Boat(Vehicle):\n",
    "  def move(self):\n",
    "    print(\"Sail!\")\n",
    "\n",
    "class Plane(Vehicle):\n",
    "  def move(self):\n",
    "    print(\"Fly!\")\n",
    "\n",
    "car1 = Car(\"Ford\", \"Mustang\")       #Create a Car object\n",
    "boat1 = Boat(\"Ibiza\", \"Touring 20\") #Create a Boat object\n",
    "plane1 = Plane(\"Boeing\", \"747\")     #Create a Plane object\n",
    "\n",
    "for x in (car1, boat1, plane1):\n",
    "  print(x.brand)\n",
    "  print(x.model)\n",
    "  x.move()"
   ]
  },
  {
   "cell_type": "code",
   "execution_count": null,
   "id": "4b0bab23-e12f-4981-a877-2c5834a90092",
   "metadata": {},
   "outputs": [],
   "source": []
  }
 ],
 "metadata": {
  "kernelspec": {
   "display_name": "venv",
   "language": "python",
   "name": "python3"
  },
  "language_info": {
   "codemirror_mode": {
    "name": "ipython",
    "version": 3
   },
   "file_extension": ".py",
   "mimetype": "text/x-python",
   "name": "python",
   "nbconvert_exporter": "python",
   "pygments_lexer": "ipython3",
   "version": "3.13.3"
  }
 },
 "nbformat": 4,
 "nbformat_minor": 5
}
