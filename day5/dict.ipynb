{
 "cells": [
  {
   "cell_type": "markdown",
   "id": "c74dd06c",
   "metadata": {},
   "source": [
    "## Dictionary and Set\n",
    "*Introduction to Dictionaries\n",
    "\n",
    "*Dictionary Operations & Methods\n",
    "\n",
    "*Introduction to Sets\n",
    "\n",
    "*Set Operations\n",
    "\n",
    "*Practical Applications\n",
    "\n",
    "Practice Exercises"
   ]
  },
  {
   "cell_type": "markdown",
   "id": "caa94709",
   "metadata": {},
   "source": [
    "### What are Dictionaries?\n",
    "Unordered collections of key-value pairs\n",
    "\n",
    "Keys must be unique and immutable (strings, numbers, tuples)\n",
    "\n",
    "Values can be any Python object"
   ]
  },
  {
   "cell_type": "code",
   "execution_count": 18,
   "id": "3ebdacad",
   "metadata": {},
   "outputs": [],
   "source": [
    "empty_dict={}\n",
    "student={\n",
    "    \"name\":\"Alice\",\n",
    "    \"age\":21,\n",
    "    #\"address\":\"Kathmandu\",\n",
    "    \"courses\":[\"Maths\",\"Physics\"]\n",
    "}"
   ]
  },
  {
   "cell_type": "code",
   "execution_count": 9,
   "id": "0c4fe433",
   "metadata": {},
   "outputs": [
    {
     "name": "stdout",
     "output_type": "stream",
     "text": [
      "Alice\n",
      "21\n",
      "Physics\n",
      "<class 'str'>\n",
      "<class 'list'>\n"
     ]
    }
   ],
   "source": [
    "print(student.get(\"name\"))\n",
    "print(student.get(\"age\"))\n",
    "print(student.get(\"courses\")[1])\n",
    "print(type(student.get(\"courses\")[1]))\n",
    "print(type(student.get(\"courses\")))"
   ]
  },
  {
   "cell_type": "code",
   "execution_count": 10,
   "id": "6c1af9f6",
   "metadata": {},
   "outputs": [
    {
     "name": "stdout",
     "output_type": "stream",
     "text": [
      "{'name': 'Bob', 'department': 'HR', 'employee_id': 9876, 'years_of_service': 5}\n",
      "{'Math': 90, 'Physics': 85}\n",
      "<class 'dict'>\n",
      "<class 'dict'>\n"
     ]
    }
   ],
   "source": [
    "# Method 2: Using the dict() constructor\n",
    "grades = dict([(\"Math\", 90),(\"Physics\", 85)])\n",
    "\n",
    "employee = dict(\n",
    "    name=\"Bob\",\n",
    "    department=\"HR\",\n",
    "    employee_id=9876,\n",
    "    years_of_service=5\n",
    ")\n",
    "print(employee)\n",
    "print(grades)\n",
    "print(type(employee))\n",
    "print(type(grades))"
   ]
  },
  {
   "cell_type": "code",
   "execution_count": null,
   "id": "e77a6f65",
   "metadata": {},
   "outputs": [
    {
     "name": "stdout",
     "output_type": "stream",
     "text": [
      "Bhaktapur, Nepal , Alice\n",
      "Bhaktapur, Nepal\n"
     ]
    }
   ],
   "source": [
    "student[\"address\"]=\"Kathmandu, Nepal\"\n",
    "print(student.get(\"address\"),\",\", student.get(\"name\"))\n",
    "print(student.get(\"address\",\"Not found\"))"
   ]
  },
  {
   "cell_type": "code",
   "execution_count": 34,
   "id": "242fbddc",
   "metadata": {},
   "outputs": [],
   "source": [
    "student[\"address\"]=\"Bhaktapur, Nepal\""
   ]
  },
  {
   "cell_type": "code",
   "execution_count": 28,
   "id": "d0456487",
   "metadata": {},
   "outputs": [
    {
     "name": "stdout",
     "output_type": "stream",
     "text": [
      "{'name': 'Alice', 'age': 21, 'courses': ['Maths', 'Physics'], 'address': 'Bhaktapur, Nepal'}\n"
     ]
    }
   ],
   "source": [
    "print(student)"
   ]
  },
  {
   "cell_type": "code",
   "execution_count": 36,
   "id": "8f3eefb3",
   "metadata": {},
   "outputs": [
    {
     "data": {
      "text/plain": [
       "'Bhaktapur, Nepal'"
      ]
     },
     "execution_count": 36,
     "metadata": {},
     "output_type": "execute_result"
    }
   ],
   "source": [
    "student.pop(\"address\")"
   ]
  },
  {
   "cell_type": "code",
   "execution_count": null,
   "id": "d8e000fb",
   "metadata": {},
   "outputs": [
    {
     "name": "stdout",
     "output_type": "stream",
     "text": [
      "{'name': 'Alice', 'age': 21, 'courses': ['Maths', 'Physics']}\n"
     ]
    }
   ],
   "source": [
    "print(student)\n"
   ]
  },
  {
   "cell_type": "code",
   "execution_count": 38,
   "id": "f6d64dcb",
   "metadata": {},
   "outputs": [
    {
     "name": "stdout",
     "output_type": "stream",
     "text": [
      "{'name': 'Bob', 'department': 'HR', 'employee_id': 9876, 'years_of_service': 5}\n"
     ]
    }
   ],
   "source": [
    "print(employee)"
   ]
  },
  {
   "cell_type": "code",
   "execution_count": null,
   "id": "ab482219",
   "metadata": {},
   "outputs": [],
   "source": []
  }
 ],
 "metadata": {
  "kernelspec": {
   "display_name": "venv",
   "language": "python",
   "name": "python3"
  },
  "language_info": {
   "codemirror_mode": {
    "name": "ipython",
    "version": 3
   },
   "file_extension": ".py",
   "mimetype": "text/x-python",
   "name": "python",
   "nbconvert_exporter": "python",
   "pygments_lexer": "ipython3",
   "version": "3.12.1"
  }
 },
 "nbformat": 4,
 "nbformat_minor": 5
}
